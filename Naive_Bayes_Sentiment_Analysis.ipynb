{
 "cells": [
  {
   "cell_type": "code",
   "execution_count": 60,
   "id": "ffb58bcd",
   "metadata": {},
   "outputs": [],
   "source": [
    "# Numpy for loading calculations into multidimensional arrays\n",
    "import numpy as np \n",
    "import pandas as pd \n",
    "\n",
    "from time import time\n",
    "import re\n",
    "import string\n",
    "import os\n",
    "from pprint import pprint\n",
    "\n",
    "# Provides different types of containers e.g 'Counter' that is used for processing word count\n",
    "from collections import Counter\n",
    "\n",
    "import matplotlib.pyplot as plt\n",
    "import seaborn as sns\n",
    "sns.set(style=\"darkgrid\")\n",
    "sns.set(font_scale=1.3)\n",
    "\n",
    "from sklearn.base import BaseEstimator, TransformerMixin\n",
    "from sklearn.feature_extraction.text import CountVectorizer\n",
    "from sklearn.feature_extraction.text import TfidfVectorizer\n",
    "from sklearn.model_selection import GridSearchCV\n",
    "from sklearn.model_selection import train_test_split\n",
    "from sklearn.pipeline import Pipeline, FeatureUnion\n",
    "from sklearn.metrics import classification_report\n",
    "from sklearn.metrics import confusion_matrix\n",
    "from sklearn.naive_bayes import MultinomialNB\n",
    "from sklearn.linear_model import LogisticRegression\n",
    "\n",
    "import gensim\n",
    "\n",
    "from nltk.corpus import stopwords\n",
    "from nltk.stem import PorterStemmer\n",
    "from nltk.tokenize import word_tokenize\n",
    "\n",
    "import warnings\n",
    "warnings.filterwarnings('ignore')\n",
    "\n",
    "\n",
    "\n",
    "\n",
    "\n",
    "\n",
    "\n",
    "\n",
    "\n"
   ]
  },
  {
   "cell_type": "code",
   "execution_count": 2,
   "id": "0f9dfbd6",
   "metadata": {},
   "outputs": [
    {
     "data": {
      "text/html": [
       "<div>\n",
       "<style scoped>\n",
       "    .dataframe tbody tr th:only-of-type {\n",
       "        vertical-align: middle;\n",
       "    }\n",
       "\n",
       "    .dataframe tbody tr th {\n",
       "        vertical-align: top;\n",
       "    }\n",
       "\n",
       "    .dataframe thead th {\n",
       "        text-align: right;\n",
       "    }\n",
       "</style>\n",
       "<table border=\"1\" class=\"dataframe\">\n",
       "  <thead>\n",
       "    <tr style=\"text-align: right;\">\n",
       "      <th></th>\n",
       "      <th>content</th>\n",
       "      <th>sentiment</th>\n",
       "    </tr>\n",
       "  </thead>\n",
       "  <tbody>\n",
       "    <tr>\n",
       "      <th>0</th>\n",
       "      <td>joe biden say get place putin decid invad russia peopl vote guy</td>\n",
       "      <td>neutral</td>\n",
       "    </tr>\n",
       "    <tr>\n",
       "      <th>1</th>\n",
       "      <td>like countri sovereign proven valid concern would invad talk legitim secur concern legitim secur concern equat ukrain russia neighbor</td>\n",
       "      <td>positive</td>\n",
       "    </tr>\n",
       "    <tr>\n",
       "      <th>2</th>\n",
       "      <td>nato aggressor mayb russia declar war nato would hoot instead decid invad weaker neighbor unprovok find much fun thought</td>\n",
       "      <td>negative</td>\n",
       "    </tr>\n",
       "    <tr>\n",
       "      <th>3</th>\n",
       "      <td>zelenski put power coup ukrain want russia ukrain one forc russia invad russia made decis pay</td>\n",
       "      <td>negative</td>\n",
       "    </tr>\n",
       "    <tr>\n",
       "      <th>4</th>\n",
       "      <td>point ukrain ask nato eu help russia would happen anyway mean like russia go invad ukrain right</td>\n",
       "      <td>positive</td>\n",
       "    </tr>\n",
       "    <tr>\n",
       "      <th>...</th>\n",
       "      <td>...</td>\n",
       "      <td>...</td>\n",
       "    </tr>\n",
       "    <tr>\n",
       "      <th>165242</th>\n",
       "      <td>approach putin domest pressur think invad ukrain pull june nd hitler invad russia hope buy time may ww happi new year putin may go biolog also use fog war covid potenc</td>\n",
       "      <td>negative</td>\n",
       "    </tr>\n",
       "    <tr>\n",
       "      <th>165243</th>\n",
       "      <td>predict year russia invad ukrain januari china invad twain late spring summer covid still time next year</td>\n",
       "      <td>neutral</td>\n",
       "    </tr>\n",
       "    <tr>\n",
       "      <th>165244</th>\n",
       "      <td>ye sure stand america would never left anyon afghanistan russia invad well anyon one would mess isreal would afraid firestorm would rain</td>\n",
       "      <td>positive</td>\n",
       "    </tr>\n",
       "    <tr>\n",
       "      <th>165245</th>\n",
       "      <td>russia own cuba venezuela putin want ukrain kgb alway kgb putin dictat dictat invad nobodi question mysteri accid</td>\n",
       "      <td>positive</td>\n",
       "    </tr>\n",
       "    <tr>\n",
       "      <th>165246</th>\n",
       "      <td>russia go way partial solut invad take ukrain bong</td>\n",
       "      <td>neutral</td>\n",
       "    </tr>\n",
       "  </tbody>\n",
       "</table>\n",
       "<p>165247 rows × 2 columns</p>\n",
       "</div>"
      ],
      "text/plain": [
       "                                                                                                                                                                         content  \\\n",
       "0       joe biden say get place putin decid invad russia peopl vote guy                                                                                                            \n",
       "1        like countri sovereign proven valid concern would invad talk legitim secur concern legitim secur concern equat ukrain russia neighbor                                     \n",
       "2        nato aggressor mayb russia declar war nato would hoot instead decid invad weaker neighbor unprovok find much fun thought                                                  \n",
       "3        zelenski put power coup ukrain want russia ukrain one forc russia invad russia made decis pay                                                                             \n",
       "4        point ukrain ask nato eu help russia would happen anyway mean like russia go invad ukrain right                                                                           \n",
       "...                                                                                                   ...                                                                          \n",
       "165242  approach putin domest pressur think invad ukrain pull june nd hitler invad russia hope buy time may ww happi new year putin may go biolog also use fog war covid potenc    \n",
       "165243  predict year russia invad ukrain januari china invad twain late spring summer covid still time next year                                                                   \n",
       "165244  ye sure stand america would never left anyon afghanistan russia invad well anyon one would mess isreal would afraid firestorm would rain                                   \n",
       "165245   russia own cuba venezuela putin want ukrain kgb alway kgb putin dictat dictat invad nobodi question mysteri accid                                                         \n",
       "165246   russia go way partial solut invad take ukrain bong                                                                                                                        \n",
       "\n",
       "       sentiment  \n",
       "0       neutral   \n",
       "1       positive  \n",
       "2       negative  \n",
       "3       negative  \n",
       "4       positive  \n",
       "...          ...  \n",
       "165242  negative  \n",
       "165243  neutral   \n",
       "165244  positive  \n",
       "165245  positive  \n",
       "165246  neutral   \n",
       "\n",
       "[165247 rows x 2 columns]"
      ]
     },
     "execution_count": 33,
     "metadata": {},
     "output_type": "execute_result"
    }
   ],
   "source": [
    "data0 = pd.read_csv(r'labeled.csv',encoding=\"ISO-8859-1\")\n",
    "data0"
   ]
  },
  {
   "cell_type": "code",
   "execution_count": 3,
   "id": "bdf46659-24df-42e1-a8ae-113e4c82c3a2",
   "metadata": {},
   "outputs": [],
   "source": [
    "data0.drop(data0.index[1999:170834], inplace=True)"
   ]
  },
  {
   "cell_type": "code",
   "execution_count": 4,
   "id": "640cb83e-e00d-4818-ac77-ad7f006d6c78",
   "metadata": {},
   "outputs": [],
   "source": [
    "# Creating a class TextCounts for text analysis\n",
    "\n",
    "from sklearn.base import BaseEstimator, TransformerMixin\n",
    "\n",
    "class TextCounts(BaseEstimator, TransformerMixin):\n",
    "    \n",
    "    def count_regex(self, pattern, tweet):\n",
    "        return len(re.findall(pattern, tweet))\n",
    "    \n",
    "    def fit(self, X, y=None, **fit_params):\n",
    "        return self\n",
    "    \n",
    "    def transform(self, X, **transform_params):\n",
    "        count_words = X.apply(lambda x: self.count_regex(r'\\w+', x)) \n",
    "        \n",
    "        data0 = pd.DataFrame({'count_words': count_words })\n",
    "        \n",
    "        return data0\n",
    "    \n"
   ]
  },
  {
   "cell_type": "code",
   "execution_count": 5,
   "id": "d0786c85-a8fa-4ab6-8ffe-9b56945990f7",
   "metadata": {},
   "outputs": [
    {
     "data": {
      "text/html": [
       "<div>\n",
       "<style scoped>\n",
       "    .dataframe tbody tr th:only-of-type {\n",
       "        vertical-align: middle;\n",
       "    }\n",
       "\n",
       "    .dataframe tbody tr th {\n",
       "        vertical-align: top;\n",
       "    }\n",
       "\n",
       "    .dataframe thead th {\n",
       "        text-align: right;\n",
       "    }\n",
       "</style>\n",
       "<table border=\"1\" class=\"dataframe\">\n",
       "  <thead>\n",
       "    <tr style=\"text-align: right;\">\n",
       "      <th></th>\n",
       "      <th>count_words</th>\n",
       "      <th>sentiment</th>\n",
       "    </tr>\n",
       "  </thead>\n",
       "  <tbody>\n",
       "    <tr>\n",
       "      <th>0</th>\n",
       "      <td>12</td>\n",
       "      <td>neutral</td>\n",
       "    </tr>\n",
       "    <tr>\n",
       "      <th>1</th>\n",
       "      <td>19</td>\n",
       "      <td>positive</td>\n",
       "    </tr>\n",
       "    <tr>\n",
       "      <th>2</th>\n",
       "      <td>19</td>\n",
       "      <td>negative</td>\n",
       "    </tr>\n",
       "    <tr>\n",
       "      <th>3</th>\n",
       "      <td>16</td>\n",
       "      <td>negative</td>\n",
       "    </tr>\n",
       "    <tr>\n",
       "      <th>4</th>\n",
       "      <td>17</td>\n",
       "      <td>positive</td>\n",
       "    </tr>\n",
       "    <tr>\n",
       "      <th>...</th>\n",
       "      <td>...</td>\n",
       "      <td>...</td>\n",
       "    </tr>\n",
       "    <tr>\n",
       "      <th>1994</th>\n",
       "      <td>28</td>\n",
       "      <td>negative</td>\n",
       "    </tr>\n",
       "    <tr>\n",
       "      <th>1995</th>\n",
       "      <td>25</td>\n",
       "      <td>negative</td>\n",
       "    </tr>\n",
       "    <tr>\n",
       "      <th>1996</th>\n",
       "      <td>24</td>\n",
       "      <td>negative</td>\n",
       "    </tr>\n",
       "    <tr>\n",
       "      <th>1997</th>\n",
       "      <td>26</td>\n",
       "      <td>negative</td>\n",
       "    </tr>\n",
       "    <tr>\n",
       "      <th>1998</th>\n",
       "      <td>25</td>\n",
       "      <td>positive</td>\n",
       "    </tr>\n",
       "  </tbody>\n",
       "</table>\n",
       "<p>1999 rows × 2 columns</p>\n",
       "</div>"
      ],
      "text/plain": [
       "      count_words sentiment\n",
       "0     12           neutral \n",
       "1     19           positive\n",
       "2     19           negative\n",
       "3     16           negative\n",
       "4     17           positive\n",
       "...   ..                ...\n",
       "1994  28           negative\n",
       "1995  25           negative\n",
       "1996  24           negative\n",
       "1997  26           negative\n",
       "1998  25           positive\n",
       "\n",
       "[1999 rows x 2 columns]"
      ]
     },
     "execution_count": 5,
     "metadata": {},
     "output_type": "execute_result"
    }
   ],
   "source": [
    "tc = TextCounts()\n",
    "data0_eda = tc.fit_transform(data0.content)\n",
    "data0_eda['sentiment'] = data0.sentiment\n",
    "data0_eda"
   ]
  },
  {
   "cell_type": "code",
   "execution_count": 6,
   "id": "43f7d757-62d0-4f0f-a7e1-3c0f520f9c7a",
   "metadata": {},
   "outputs": [],
   "source": [
    "# Descriptive text stats per target class\n",
    "\n",
    "sns.set(style=\"darkgrid\")\n",
    "sns.set(font_scale=1.3)\n",
    "\n",
    "def show_dist(data0, col):\n",
    "    print('Descriptive stats for {}'.format(col))\n",
    "    print('-'*(len(col)+22))\n",
    "    print(data0.groupby('sentiment')[col].describe())\n",
    "    bins = np.arange(data0[col].min(), data0[col].max() + 1)\n",
    "    g = sns.FacetGrid(data0, col='sentiment', size=5, hue='sentiment', palette=\"PuBuGn_d\")\n",
    "    g = g.map(sns.distplot, col, kde=False, norm_hist=True, bins=bins)\n",
    "    plt.show()"
   ]
  },
  {
   "cell_type": "code",
   "execution_count": 7,
   "id": "3e4f150a-654c-4c49-bf03-387144a6c74d",
   "metadata": {},
   "outputs": [
    {
     "name": "stdout",
     "output_type": "stream",
     "text": [
      "Descriptive stats for count_words\n",
      "---------------------------------\n",
      "           count       mean       std  min   25%   50%   75%   max\n",
      "sentiment                                                         \n",
      "negative   914.0  20.669584  6.385242  4.0  16.0  22.0  25.0  38.0\n",
      "neutral    388.0  11.206186  6.317505  2.0  6.0   10.0  15.0  29.0\n",
      "positive   697.0  18.747489  6.852883  3.0  13.0  19.0  25.0  34.0\n"
     ]
    },
    {
     "data": {
      "image/png": "[encoded data removed]",
      "text/plain": [
       "<Figure size 1080x360 with 3 Axes>"
      ]
     },
     "metadata": {},
     "output_type": "display_data"
    }
   ],
   "source": [
    "show_dist(data0_eda, 'count_words')"
   ]
  },
  {
   "cell_type": "code",
   "execution_count": 8,
   "id": "26f6cf20-89af-46ba-b35b-e114bf36fb7f",
   "metadata": {},
   "outputs": [],
   "source": [
    "data_clean = data0['content']"
   ]
  },
  {
   "cell_type": "code",
   "execution_count": 9,
   "id": "9d414ae6-8686-46d3-b0df-70e433201f1e",
   "metadata": {},
   "outputs": [
    {
     "data": {
      "image/png": "[encoded data removed]",
      "text/plain": [
       "<Figure size 1152x720 with 1 Axes>"
      ]
     },
     "metadata": {},
     "output_type": "display_data"
    }
   ],
   "source": [
    "# Freq plot for 20 most used words\n",
    "cv = CountVectorizer()\n",
    "bow = cv.fit_transform(data_clean)\n",
    "word_freq = dict(zip(cv.get_feature_names(), np.asarray(bow.sum(axis=0)).ravel()))\n",
    "word_counter = collections.Counter(word_freq)\n",
    "word_counter_df = pd.DataFrame(word_counter.most_common(20), columns = ['word', 'freq'])\n",
    "\n",
    "fig, ax = plt.subplots(figsize=(16, 10))\n",
    "bar_freq_word = sns.barplot(x=\"word\", y=\"freq\", data=word_counter_df, palette=\"PuBuGn_d\", ax=ax)\n",
    "plt.show();"
   ]
  },
  {
   "cell_type": "code",
   "execution_count": 10,
   "id": "d0ea9385-1f84-4a71-b5a3-46300b26c9d9",
   "metadata": {},
   "outputs": [
    {
     "data": {
      "text/plain": [
       "['count_words', 'sentiment', 'clean_text']"
      ]
     },
     "execution_count": 10,
     "metadata": {},
     "output_type": "execute_result"
    }
   ],
   "source": [
    "# Combining the TextCounts variables with the CleanText variable\n",
    "\n",
    "data0_model = data0_eda\n",
    "data0_model['clean_text'] = data_clean\n",
    "data0_model.columns.tolist()\n"
   ]
  },
  {
   "cell_type": "code",
   "execution_count": 11,
   "id": "6acfd211-087d-493d-8d51-daf6f6a8a829",
   "metadata": {},
   "outputs": [
    {
     "data": {
      "text/plain": [
       "3        zelenski put power coup ukrain want russia ukrain one forc russia invad russia made decis pay \n",
       "1219     joe biden made russia invad ukrain stop american freedom convoy                               \n",
       "1535     help ukrain win send russia pack invad anoth countri becom third rate countri                 \n",
       "102      happen republ ireland decid join militari allianc russia jave doubt uk would invad            \n",
       "1363     russia invad usf accident invad miami aim south florida                                       \n",
       "Name: content, dtype: object"
      ]
     },
     "execution_count": 11,
     "metadata": {},
     "output_type": "execute_result"
    }
   ],
   "source": [
    "data_clean.sample(5)"
   ]
  },
  {
   "cell_type": "code",
   "execution_count": 12,
   "id": "d41608b7-18c7-466c-bbf5-25cbdb41ef33",
   "metadata": {},
   "outputs": [],
   "source": [
    "# To specifically select columns that is used for vectorization\n",
    "class ColumnExtractor(TransformerMixin, BaseEstimator):\n",
    "    def __init__(self, cols):\n",
    "        self.cols = cols\n",
    "\n",
    "    def transform(self, X, **transform_params):\n",
    "        return X[self.cols]\n",
    "\n",
    "    def fit(self, X, y=None, **fit_params):\n",
    "        return self"
   ]
  },
  {
   "cell_type": "code",
   "execution_count": 13,
   "id": "739fc7fc-51aa-45d7-9d18-48fedfb0cd0c",
   "metadata": {},
   "outputs": [],
   "source": [
    "# splitting data frame for model\n",
    "\n",
    "from sklearn.model_selection import train_test_split\n",
    "\n",
    "X_train, X_test, y_train, y_test = train_test_split(data0_model.drop('sentiment', axis=1), data0_model.sentiment, test_size=0.2, random_state=37)"
   ]
  },
  {
   "cell_type": "code",
   "execution_count": 56,
   "id": "a5e812ed-39c5-4aec-bb75-a260ed537ecd",
   "metadata": {},
   "outputs": [],
   "source": [
    "\n",
    "from sklearn.base import BaseEstimator, TransformerMixin\n",
    "from sklearn.feature_extraction.text import CountVectorizer\n",
    "from sklearn.feature_extraction.text import TfidfVectorizer\n",
    "from sklearn.model_selection import GridSearchCV\n",
    "from sklearn.pipeline import Pipeline, FeatureUnion\n",
    "from sklearn.metrics import classification_report\n",
    "\n",
    "def grid_vect(clf, parameters_clf, X_train, X_test, parameters_text=None, vect=None):\n",
    "    \n",
    "    textcountscols = ['count_words']\n",
    "    \n",
    "\n",
    "    features = FeatureUnion([('textcounts', ColumnExtractor(cols=textcountscols)), ('pipe', Pipeline([('cleantext', ColumnExtractor(cols='clean_text')), ('vect', vect)]))]\n",
    "                                , n_jobs=-1)\n",
    "\n",
    "    \n",
    "    pipeline = Pipeline([\n",
    "        ('features', features)\n",
    "        , ('clf', clf)\n",
    "    ])\n",
    "    \n",
    "    # Join the parameters dictionaries together\n",
    "    parameters = dict()\n",
    "    if parameters_text:\n",
    "        parameters.update(parameters_text)\n",
    "    parameters.update(parameters_clf)\n",
    "\n",
    "    grid_search = GridSearchCV(pipeline, parameters, n_jobs=-1, verbose=1, cv=5)\n",
    "    \n",
    "    print(\"Performing grid search...\")\n",
    "    print(\"pipeline:\", [name for name, _ in pipeline.steps])\n",
    "    print(\"parameters:\")\n",
    "    print(parameters)\n",
    "\n",
    "    t0 = time()\n",
    "    grid_search.fit(X_train, y_train)\n",
    "    print(\"done in %0.3fs\" % (time() - t0))\n",
    "    print()\n",
    "\n",
    "    print(\"Best CV score: %0.3f\" % grid_search.best_score_)\n",
    "    print(\"Best parameters set:\")\n",
    "    best_parameters = grid_search.best_estimator_.get_params()\n",
    "    for param_name in sorted(parameters.keys()):\n",
    "        print(\"\\t%s: %r\" % (param_name, best_parameters[param_name]))\n",
    "        \n",
    "    print(\"Test score with best_estimator_: %0.3f\" % grid_search.best_estimator_.score(X_test, y_test))\n",
    "    print(\"\\n\")\n",
    "    print(\"Classification Report Test Data\")\n",
    "    print(classification_report(y_test, grid_search.best_estimator_.predict(X_test)))\n",
    "    \n",
    "    \n",
    "        \n",
    "    return grid_search"
   ]
  },
  {
   "cell_type": "code",
   "execution_count": 43,
   "id": "d55cf1d2-3a02-486a-b546-ddc2d4b83fcb",
   "metadata": {},
   "outputs": [],
   "source": [
    "# Parameter grid settings for the vectorizers (Count and TFIDF)\n",
    "\n",
    "parameters_vect = {\n",
    "    'features__pipe__vect__max_df': (0.25, 0.5, 0.75),\n",
    "    'features__pipe__vect__ngram_range': ((1, 1), (1, 2)),\n",
    "    'features__pipe__vect__min_df': (1,2)\n",
    "}\n",
    "\n",
    "\n",
    "# Parameter grid settings for MultinomialNB\n",
    "parameters_mnb = {\n",
    "    'clf__alpha': (0.25, 0.5, 0.75)\n",
    "}\n",
    "\n",
    "\n",
    "# Parameter grid settings for LogisticRegression\n",
    "parameters_logreg = {\n",
    "    'clf__C': (0.25, 0.5, 1.0),\n",
    "    'clf__penalty': ('l1', 'l2')\n",
    "}"
   ]
  },
  {
   "cell_type": "markdown",
   "id": "057b842b-a614-4d16-899c-78292b9fc0bc",
   "metadata": {},
   "source": [
    "# Count Vectorizer"
   ]
  },
  {
   "cell_type": "code",
   "execution_count": 57,
   "id": "d67ad51e-94e4-4466-bc9b-41744083e0a7",
   "metadata": {},
   "outputs": [
    {
     "name": "stdout",
     "output_type": "stream",
     "text": [
      "Performing grid search...\n",
      "pipeline: ['features', 'clf']\n",
      "parameters:\n",
      "{'features__pipe__vect__max_df': (0.25, 0.5, 0.75), 'features__pipe__vect__ngram_range': ((1, 1), (1, 2)), 'features__pipe__vect__min_df': (1, 2), 'clf__alpha': (0.25, 0.5, 0.75)}\n",
      "Fitting 5 folds for each of 36 candidates, totalling 180 fits\n",
      "done in 4.544s\n",
      "\n",
      "Best CV score: 0.652\n",
      "Best parameters set:\n",
      "\tclf__alpha: 0.25\n",
      "\tfeatures__pipe__vect__max_df: 0.5\n",
      "\tfeatures__pipe__vect__min_df: 2\n",
      "\tfeatures__pipe__vect__ngram_range: (1, 2)\n",
      "Test score with best_estimator_: 0.593\n",
      "\n",
      "\n",
      "Classification Report Test Data\n",
      "              precision    recall  f1-score   support\n",
      "\n",
      "    negative       0.61      0.72      0.66       179\n",
      "     neutral       0.68      0.32      0.43        78\n",
      "    positive       0.55      0.58      0.57       143\n",
      "\n",
      "    accuracy                           0.59       400\n",
      "   macro avg       0.61      0.54      0.55       400\n",
      "weighted avg       0.60      0.59      0.58       400\n",
      "\n"
     ]
    }
   ],
   "source": [
    "# Naive Bayes using count vectorizer\n",
    "mnb = MultinomialNB()\n",
    "best_mnb_countvect = grid_vect(mnb, parameters_mnb, X_train, X_test, parameters_text=parameters_vect, vect=cv)\n"
   ]
  },
  {
   "cell_type": "code",
   "execution_count": 30,
   "id": "9c5ee63e-7576-4183-bfe2-3a9f8e43ea48",
   "metadata": {},
   "outputs": [
    {
     "name": "stdout",
     "output_type": "stream",
     "text": [
      "Performing grid search...\n",
      "pipeline: ['features', 'clf']\n",
      "parameters:\n",
      "{'features__pipe__vect__max_df': (0.25, 0.5, 0.75), 'features__pipe__vect__ngram_range': ((1, 1), (1, 2)), 'features__pipe__vect__min_df': (1, 2), 'clf__C': (0.25, 0.5, 1.0), 'clf__penalty': ('l1', 'l2')}\n",
      "Fitting 5 folds for each of 72 candidates, totalling 360 fits\n",
      "done in 43.414s\n",
      "\n",
      "Best CV score: 0.735\n",
      "Best parameters set:\n",
      "\tclf__C: 1.0\n",
      "\tclf__penalty: 'l2'\n",
      "\tfeatures__pipe__vect__max_df: 0.75\n",
      "\tfeatures__pipe__vect__min_df: 2\n",
      "\tfeatures__pipe__vect__ngram_range: (1, 1)\n",
      "Test score with best_estimator_: 0.723\n",
      "\n",
      "\n",
      "Classification Report Test Data\n",
      "              precision    recall  f1-score   support\n",
      "\n",
      "    negative       0.76      0.75      0.75       179\n",
      "     neutral       0.68      0.69      0.68        78\n",
      "    positive       0.70      0.71      0.70       143\n",
      "\n",
      "    accuracy                           0.72       400\n",
      "   macro avg       0.71      0.72      0.71       400\n",
      "weighted avg       0.72      0.72      0.72       400\n",
      "\n"
     ]
    }
   ],
   "source": [
    "# LogisticRegression using count vectorizer\n",
    "\n",
    "logreg = LogisticRegression()\n",
    "best_logreg_countvect = grid_vect(logreg, parameters_logreg, X_train, X_test, parameters_text=parameters_vect, vect=cv)"
   ]
  },
  {
   "cell_type": "markdown",
   "id": "6e4bfad7-0c94-4564-b975-8b244aca6418",
   "metadata": {},
   "source": [
    "# TF-IDF"
   ]
  },
  {
   "cell_type": "code",
   "execution_count": 19,
   "id": "89d1ae6c-4df1-4add-a1d7-af520335b954",
   "metadata": {},
   "outputs": [],
   "source": [
    "tfidfvect = TfidfVectorizer()"
   ]
  },
  {
   "cell_type": "code",
   "execution_count": 58,
   "id": "3ed9c249-c93e-4afb-9eaa-86b281479daf",
   "metadata": {},
   "outputs": [
    {
     "name": "stdout",
     "output_type": "stream",
     "text": [
      "Performing grid search...\n",
      "pipeline: ['features', 'clf']\n",
      "parameters:\n",
      "{'features__pipe__vect__max_df': (0.25, 0.5, 0.75), 'features__pipe__vect__ngram_range': ((1, 1), (1, 2)), 'features__pipe__vect__min_df': (1, 2), 'clf__alpha': (0.25, 0.5, 0.75)}\n",
      "Fitting 5 folds for each of 36 candidates, totalling 180 fits\n",
      "done in 4.686s\n",
      "\n",
      "Best CV score: 0.621\n",
      "Best parameters set:\n",
      "\tclf__alpha: 0.25\n",
      "\tfeatures__pipe__vect__max_df: 0.75\n",
      "\tfeatures__pipe__vect__min_df: 2\n",
      "\tfeatures__pipe__vect__ngram_range: (1, 1)\n",
      "Test score with best_estimator_: 0.590\n",
      "\n",
      "\n",
      "Classification Report Test Data\n",
      "              precision    recall  f1-score   support\n",
      "\n",
      "    negative       0.56      0.87      0.68       179\n",
      "     neutral       1.00      0.12      0.21        78\n",
      "    positive       0.63      0.50      0.55       143\n",
      "\n",
      "    accuracy                           0.59       400\n",
      "   macro avg       0.73      0.49      0.48       400\n",
      "weighted avg       0.67      0.59      0.54       400\n",
      "\n"
     ]
    }
   ],
   "source": [
    "# Naive Bayes using TF-IDf\n",
    "best_mnb_tfidf = grid_vect(mnb, parameters_mnb, X_train, X_test, parameters_text=parameters_vect, vect=tfidfvect)"
   ]
  },
  {
   "cell_type": "code",
   "execution_count": 31,
   "id": "57debb4f-8336-45ac-a044-0224ca2d8481",
   "metadata": {},
   "outputs": [
    {
     "name": "stdout",
     "output_type": "stream",
     "text": [
      "Performing grid search...\n",
      "pipeline: ['features', 'clf']\n",
      "parameters:\n",
      "{'features__pipe__vect__max_df': (0.25, 0.5, 0.75), 'features__pipe__vect__ngram_range': ((1, 1), (1, 2)), 'features__pipe__vect__min_df': (1, 2), 'clf__C': (0.25, 0.5, 1.0), 'clf__penalty': ('l1', 'l2')}\n",
      "Fitting 5 folds for each of 72 candidates, totalling 360 fits\n",
      "done in 41.398s\n",
      "\n",
      "Best CV score: 0.715\n",
      "Best parameters set:\n",
      "\tclf__C: 1.0\n",
      "\tclf__penalty: 'l2'\n",
      "\tfeatures__pipe__vect__max_df: 0.5\n",
      "\tfeatures__pipe__vect__min_df: 1\n",
      "\tfeatures__pipe__vect__ngram_range: (1, 1)\n",
      "Test score with best_estimator_: 0.705\n",
      "\n",
      "\n",
      "Classification Report Test Data\n",
      "              precision    recall  f1-score   support\n",
      "\n",
      "    negative       0.72      0.83      0.77       179\n",
      "     neutral       0.66      0.64      0.65        78\n",
      "    positive       0.71      0.58      0.64       143\n",
      "\n",
      "    accuracy                           0.70       400\n",
      "   macro avg       0.70      0.68      0.69       400\n",
      "weighted avg       0.70      0.70      0.70       400\n",
      "\n"
     ]
    }
   ],
   "source": [
    "# LogisticRegression using TF-IDF\n",
    "best_logreg_tfidf = grid_vect(logreg, parameters_logreg, X_train, X_test, parameters_text=parameters_vect, vect=tfidfvect)"
   ]
  },
  {
   "cell_type": "code",
   "execution_count": null,
   "id": "3dd084a5-3894-4c4d-9391-f11567f99a64",
   "metadata": {},
   "outputs": [],
   "source": []
  }
 ],
 "metadata": {
  "kernelspec": {
   "display_name": "Python 3 (ipykernel)",
   "language": "python",
   "name": "python3"
  },
  "language_info": {
   "codemirror_mode": {
    "name": "ipython",
    "version": 3
   },
   "file_extension": ".py",
   "mimetype": "text/x-python",
   "name": "python",
   "nbconvert_exporter": "python",
   "pygments_lexer": "ipython3",
   "version": "3.9.12"
  },
  "toc-autonumbering": true,
  "toc-showtags": true
 },
 "nbformat": 4,
 "nbformat_minor": 5
}
